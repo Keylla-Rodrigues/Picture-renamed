{
 "cells": [
  {
   "cell_type": "markdown",
   "id": "11a56506",
   "metadata": {},
   "source": [
    "# 1st code - Feb 27, 2022\n",
    "\n",
    "### Criar um codigo que renomeie todas as fotos disponiveis no network folder Pictures numa sequencia de 1 inciando pelo numero 10"
   ]
  },
  {
   "cell_type": "code",
   "execution_count": 5,
   "id": "129c5dcf",
   "metadata": {},
   "outputs": [
    {
     "name": "stdout",
     "output_type": "stream",
     "text": [
      "Me executou pelo terminal\n"
     ]
    }
   ],
   "source": [
    "##Rename a bunch of pictures label at the same time in order/sequence. Eg: Foto_1.jpg, Foto_2.jpg etc\n",
    "\n",
    "\n",
    "import os   # to know which os I am using\n",
    "\n",
    "def main():                                                     # main function that rename multiple items\n",
    "    i = 10                                                      # startings by #10   \n",
    "    path = 'C:/Users/Keylla/Desktop/Programacao/Pictures/'      # Local where the pictures are (slashes side modified)\n",
    "    for filename in os.listdir(path):                           # \n",
    "        destino = 'Foto' +'_'+ str(i) + '.jpg'                 # No destino como que sera o nome -> Foto_1.jpg\n",
    "        fonte =path + filename                                  \n",
    "        destino =path + destino\n",
    "        os.rename(fonte, destino)                               # comando para renomear\n",
    "        i +=1                                                  # comecando do zero e sempre add 1\n",
    "        \n",
    "if __name__ == '__main__':\n",
    "    main()                                                      # define special situation where the \n",
    "    print('Me executou pelo terminal')\n",
    "#else:\n",
    "#    print('Me executou como um modulo')      \n",
    "    "
   ]
  }
 ],
 "metadata": {
  "kernelspec": {
   "display_name": "Python 3",
   "language": "python",
   "name": "python3"
  },
  "language_info": {
   "codemirror_mode": {
    "name": "ipython",
    "version": 3
   },
   "file_extension": ".py",
   "mimetype": "text/x-python",
   "name": "python",
   "nbconvert_exporter": "python",
   "pygments_lexer": "ipython3",
   "version": "3.8.8"
  }
 },
 "nbformat": 4,
 "nbformat_minor": 5
}
